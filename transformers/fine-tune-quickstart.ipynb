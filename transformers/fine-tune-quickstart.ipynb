{
 "cells": [
  {
   "cell_type": "markdown",
   "id": "90c6730f-5d76-450b-9788-ec883d024f57",
   "metadata": {},
   "source": [
    "# Hugging Face Transformers 微调训练入门\n",
    "\n",
    "本示例将介绍基于 Transformers 实现模型微调训练的主要流程，包括：\n",
    "- 数据集下载\n",
    "- 数据预处理\n",
    "- 训练超参数配置\n",
    "- 训练评估指标设置\n",
    "- 训练器基本介绍\n",
    "- 实战训练\n",
    "- 模型保存"
   ]
  },
  {
   "cell_type": "markdown",
   "id": "aa0b1e12-1921-4438-8d5d-9760a629dcfe",
   "metadata": {},
   "source": [
    "## YelpReviewFull 数据集\n",
    "\n",
    "**Hugging Face 数据集：[ YelpReviewFull ](https://huggingface.co/datasets/yelp_review_full)**\n",
    "\n",
    "### 数据集摘要\n",
    "\n",
    "Yelp评论数据集包括来自Yelp的评论。它是从Yelp Dataset Challenge 2015数据中提取的。\n",
    "\n",
    "### 支持的任务和排行榜\n",
    "文本分类、情感分类：该数据集主要用于文本分类：给定文本，预测情感。\n",
    "\n",
    "### 语言\n",
    "这些评论主要以英语编写。\n",
    "\n",
    "### 数据集结构\n",
    "\n",
    "#### 数据实例\n",
    "一个典型的数据点包括文本和相应的标签。\n",
    "\n",
    "来自YelpReviewFull测试集的示例如下：\n",
    "\n",
    "```json\n",
    "{\n",
    "    'label': 0,\n",
    "    'text': 'I got \\'new\\' tires from them and within two weeks got a flat. I took my car to a local mechanic to see if i could get the hole patched, but they said the reason I had a flat was because the previous patch had blown - WAIT, WHAT? I just got the tire and never needed to have it patched? This was supposed to be a new tire. \\\\nI took the tire over to Flynn\\'s and they told me that someone punctured my tire, then tried to patch it. So there are resentful tire slashers? I find that very unlikely. After arguing with the guy and telling him that his logic was far fetched he said he\\'d give me a new tire \\\\\"this time\\\\\". \\\\nI will never go back to Flynn\\'s b/c of the way this guy treated me and the simple fact that they gave me a used tire!'\n",
    "}\n",
    "```\n",
    "\n",
    "#### 数据字段\n",
    "\n",
    "- 'text': 评论文本使用双引号（\"）转义，任何内部双引号都通过2个双引号（\"\"）转义。换行符使用反斜杠后跟一个 \"n\" 字符转义，即 \"\\n\"。\n",
    "- 'label': 对应于评论的分数（介于1和5之间）。\n",
    "\n",
    "#### 数据拆分\n",
    "\n",
    "Yelp评论完整星级数据集是通过随机选取每个1到5星评论的130,000个训练样本和10,000个测试样本构建的。总共有650,000个训练样本和50,000个测试样本。\n",
    "\n",
    "## 下载数据集"
   ]
  },
  {
   "cell_type": "code",
   "execution_count": 1,
   "id": "bbf72d6c-7ea5-4ee1-969a-c5060b9cb2d4",
   "metadata": {
    "execution": {
     "iopub.execute_input": "2024-02-15T06:39:27.062932Z",
     "iopub.status.busy": "2024-02-15T06:39:27.062482Z",
     "iopub.status.idle": "2024-02-15T06:39:30.994736Z",
     "shell.execute_reply": "2024-02-15T06:39:30.994201Z",
     "shell.execute_reply.started": "2024-02-15T06:39:27.062913Z"
    }
   },
   "outputs": [
    {
     "name": "stderr",
     "output_type": "stream",
     "text": [
      "/opt/conda/envs/myenv/lib/python3.10/site-packages/tqdm/auto.py:21: TqdmWarning: IProgress not found. Please update jupyter and ipywidgets. See https://ipywidgets.readthedocs.io/en/stable/user_install.html\n",
      "  from .autonotebook import tqdm as notebook_tqdm\n"
     ]
    }
   ],
   "source": [
    "from datasets import load_dataset\n",
    "\n",
    "dataset = load_dataset(\"yelp_review_full\")"
   ]
  },
  {
   "cell_type": "code",
   "execution_count": 2,
   "id": "ec6fc806-1395-42dd-8121-a6e98a95cf01",
   "metadata": {
    "execution": {
     "iopub.execute_input": "2024-02-15T06:39:33.275394Z",
     "iopub.status.busy": "2024-02-15T06:39:33.274787Z",
     "iopub.status.idle": "2024-02-15T06:39:33.280549Z",
     "shell.execute_reply": "2024-02-15T06:39:33.280037Z",
     "shell.execute_reply.started": "2024-02-15T06:39:33.275375Z"
    }
   },
   "outputs": [
    {
     "data": {
      "text/plain": [
       "DatasetDict({\n",
       "    train: Dataset({\n",
       "        features: ['label', 'text'],\n",
       "        num_rows: 650000\n",
       "    })\n",
       "    test: Dataset({\n",
       "        features: ['label', 'text'],\n",
       "        num_rows: 50000\n",
       "    })\n",
       "})"
      ]
     },
     "execution_count": 2,
     "metadata": {},
     "output_type": "execute_result"
    }
   ],
   "source": [
    "dataset"
   ]
  },
  {
   "cell_type": "code",
   "execution_count": 3,
   "id": "c94ad529-1604-48bd-8c8d-aa2f3bca6200",
   "metadata": {
    "execution": {
     "iopub.execute_input": "2024-02-15T06:39:34.498728Z",
     "iopub.status.busy": "2024-02-15T06:39:34.498246Z",
     "iopub.status.idle": "2024-02-15T06:39:34.511586Z",
     "shell.execute_reply": "2024-02-15T06:39:34.511077Z",
     "shell.execute_reply.started": "2024-02-15T06:39:34.498709Z"
    }
   },
   "outputs": [
    {
     "data": {
      "text/plain": [
       "{'label': 2,\n",
       " 'text': \"As far as Starbucks go, this is a pretty nice one.  The baristas are friendly and while I was here, a lot of regulars must have come in, because they bantered away with almost everyone.  The bathroom was clean and well maintained and the trash wasn't overflowing in the canisters around the store.  The pastries looked fresh, but I didn't partake.  The noise level was also at a nice working level - not too loud, music just barely audible.\\\\n\\\\nI do wish there was more seating.  It is nice that this location has a counter at the end of the bar for sole workers, but it doesn't replace more tables.  I'm sure this isn't as much of a problem in the summer when there's the space outside.\\\\n\\\\nThere was a treat receipt promo going on, but the barista didn't tell me about it, which I found odd.  Usually when they have promos like that going on, they ask everyone if they want their receipt to come back later in the day to claim whatever the offer is.  Today it was one of their new pastries for $1, I know in the summer they do $2 grande iced drinks with that morning's receipt.\\\\n\\\\nOverall, nice working or socializing environment.  Very friendly and inviting.  It's what I've come to expect from Starbucks, so points for consistency.\"}"
      ]
     },
     "execution_count": 3,
     "metadata": {},
     "output_type": "execute_result"
    }
   ],
   "source": [
    "dataset[\"train\"][111]"
   ]
  },
  {
   "cell_type": "code",
   "execution_count": 4,
   "id": "6dc45997-e391-456f-b0b9-d3193b0f6a9d",
   "metadata": {
    "execution": {
     "iopub.execute_input": "2024-02-15T06:39:35.369326Z",
     "iopub.status.busy": "2024-02-15T06:39:35.368874Z",
     "iopub.status.idle": "2024-02-15T06:39:35.371879Z",
     "shell.execute_reply": "2024-02-15T06:39:35.371401Z",
     "shell.execute_reply.started": "2024-02-15T06:39:35.369307Z"
    }
   },
   "outputs": [],
   "source": [
    "import random\n",
    "import pandas as pd\n",
    "import datasets\n",
    "from IPython.display import display, HTML"
   ]
  },
  {
   "cell_type": "code",
   "execution_count": 5,
   "id": "9e2ecebb-d5d1-456d-967c-842a79fdd622",
   "metadata": {
    "execution": {
     "iopub.execute_input": "2024-02-15T06:39:36.891400Z",
     "iopub.status.busy": "2024-02-15T06:39:36.891032Z",
     "iopub.status.idle": "2024-02-15T06:39:36.895729Z",
     "shell.execute_reply": "2024-02-15T06:39:36.895222Z",
     "shell.execute_reply.started": "2024-02-15T06:39:36.891380Z"
    }
   },
   "outputs": [],
   "source": [
    "def show_random_elements(dataset, num_examples=10):\n",
    "    assert num_examples <= len(dataset), \"Can't pick more elements than there are in the dataset.\"\n",
    "    picks = []\n",
    "    for _ in range(num_examples):\n",
    "        pick = random.randint(0, len(dataset)-1)\n",
    "        while pick in picks:\n",
    "            pick = random.randint(0, len(dataset)-1)\n",
    "        picks.append(pick)\n",
    "    \n",
    "    df = pd.DataFrame(dataset[picks])\n",
    "    for column, typ in dataset.features.items():\n",
    "        if isinstance(typ, datasets.ClassLabel):\n",
    "            df[column] = df[column].transform(lambda i: typ.names[i])\n",
    "    display(HTML(df.to_html()))"
   ]
  },
  {
   "cell_type": "code",
   "execution_count": 6,
   "id": "1af560b6-7d21-499e-9b82-114be371a98a",
   "metadata": {
    "execution": {
     "iopub.execute_input": "2024-02-15T06:39:39.065146Z",
     "iopub.status.busy": "2024-02-15T06:39:39.064569Z",
     "iopub.status.idle": "2024-02-15T06:39:39.083511Z",
     "shell.execute_reply": "2024-02-15T06:39:39.082987Z",
     "shell.execute_reply.started": "2024-02-15T06:39:39.065125Z"
    }
   },
   "outputs": [
    {
     "data": {
      "text/html": [
       "<table border=\"1\" class=\"dataframe\">\n",
       "  <thead>\n",
       "    <tr style=\"text-align: right;\">\n",
       "      <th></th>\n",
       "      <th>label</th>\n",
       "      <th>text</th>\n",
       "    </tr>\n",
       "  </thead>\n",
       "  <tbody>\n",
       "    <tr>\n",
       "      <th>0</th>\n",
       "      <td>3 stars</td>\n",
       "      <td>The wait time of 30min on a Sunday evening was long considering there were empty tables available. Not enough staff? \\nThe servers were very friendly. At the end of the meal, I got a survey on the whole experience including the wait staff. Is that why they were overly friendly? Newly trained employees.\\nThe food was ok. I had the Triple B burger and Greek salad. \\nI probably won't return anytime soon.</td>\n",
       "    </tr>\n",
       "    <tr>\n",
       "      <th>1</th>\n",
       "      <td>1 star</td>\n",
       "      <td>stay far away from this place,  you'll get what you pay for with the 100 dollars for the year membership, they handle the crowds by being as cold and unwelcoming as possible, non-members stay away!!!!!!  on Saturdays and Sundays it  is extremely crowded and employees will do everything they can to make sure that you do not \\\"get in the way\\\" of the members. (be prepared to get kicked out).  It is more like an NRA cult then a gun club, don't waste your time or money, there are plenty of professional gun clubs in AZ do not even consider this one as an option.</td>\n",
       "    </tr>\n",
       "    <tr>\n",
       "      <th>2</th>\n",
       "      <td>3 stars</td>\n",
       "      <td>I go here quite a bit and am always astounded by the poor service given by the owners. I asked for my side salad to be switched out for fries. Their salad is made with cheap lettuce and a disgusting dressing. They can't do it because \\\"it's a free small salad\\\", well then why can't you exchange it for free small fries? The cheap fries from a bag you serve can't cost more than the salad. I'm not asking much, throw 6 fries on my plate and make a customer happy. \\n\\nThe food is pretty good which keeps me coming back for more and is pretty reasonable. Don't go there expecting quick service though. Considering you order at a counter it shouldn't take as long as it does. \\n\\nThe falafel is a little greasy and I am not even sure if they are homemade. Their hummus is good though. \\n\\nI can't account for any of the meat dishes as I am a vegetarian. I also have gotten great service from people who work there who are not the owners. Don't go in expecting to be treated nicely though, go for the cheap mediocre food.</td>\n",
       "    </tr>\n",
       "    <tr>\n",
       "      <th>3</th>\n",
       "      <td>3 stars</td>\n",
       "      <td>Just like any other KFC but they do have a lunch buffet. Right now they're building a gas station next door so theirs only one way in and out and the driveway is kinda narrow. The one downside is that their menu outside is not up to date. So u order one thing and their like \\\"we don't offer that n e more\\\". Well come outside and update ur menu it's not rocket science...smh</td>\n",
       "    </tr>\n",
       "    <tr>\n",
       "      <th>4</th>\n",
       "      <td>5 stars</td>\n",
       "      <td>I'm a big fan of the pizza here. I LOVE it. I tried a salad and it wasn't for me. The waitress was really cool about offering me something else but I just wanted to stick w/ the pizza. Then the manager came over and offered us a free desert. I thought that was a super class act. I would have given 5 stars for the pizza anyway, but that earned them star # 6 in my book.</td>\n",
       "    </tr>\n",
       "    <tr>\n",
       "      <th>5</th>\n",
       "      <td>5 stars</td>\n",
       "      <td>Fast and friendly service and well prepared, good food needs to be recognized and rewarded regardless of the venue. I am at Denny's in Tempe Arizona. Being the distinguished Elite Yelper that I am, I was going to go out in search of a funky, cool local place to dine but I was so damn tired of traveling that I decided on the Denny's in the parking lot adjacent to my hotel. I was pleasantly surprised!\\n\\nI went old school diner dinner. A Double Cheeseburger, fries and an old fashioned chocolate shake. YUMMMMMMMMMMMMM!\\n\\nFresh ingredients, perfectly cooked and fast, friendly service. \\n\\nThe fact that a \\\"Tupperware Princess\\\" giving a presentation of the latest and greatest food containers did not deter me from sitting at the counter enjoying a great classic diner meal.\\n\\nGood job Denny's!</td>\n",
       "    </tr>\n",
       "    <tr>\n",
       "      <th>6</th>\n",
       "      <td>4 stars</td>\n",
       "      <td>I ate here for lunch and a dinner while staying at the New York New York Hotel for a week.  For lunch I had a pizza which was almost too much for one person....almost.  Fortunately I'd been on planes all day and was starving and the pizza was very good so I finished it all.  Service was excellent, personal and attentive.  A decent wine selection too.  \\nFor dinner, i had chicken parm.  Decent size portion, pretty tasty and the pasta side was very good too.  Service was once again excellent as well.  \\nPricing is on the higher side but not insane.  I definitely recommend it if you're in the mood for italian.</td>\n",
       "    </tr>\n",
       "    <tr>\n",
       "      <th>7</th>\n",
       "      <td>5 stars</td>\n",
       "      <td>I have to say that I love PoPo's...OMG! The food reminds me of my mom's home cooking and I admit it I am sooo picky when it comes to Mexican food. I am not crazy about the Indian School Location, it's pretty ghetto but the food is awesome. I don't mind driving to the new location on Bell Road cuz it's way better. The staff could be a little more professional but most are GREAT. I am crazy for their salsa..</td>\n",
       "    </tr>\n",
       "    <tr>\n",
       "      <th>8</th>\n",
       "      <td>2 star</td>\n",
       "      <td>I was really looking forward to eating at this food truck, but after eating their stir fry, I would have to agree with the other reviewers -its not that great.  Portion was a good size but it was pretty bland and needed more sauce.  Unfortunately, won't be visiting this food truck again.</td>\n",
       "    </tr>\n",
       "    <tr>\n",
       "      <th>9</th>\n",
       "      <td>3 stars</td>\n",
       "      <td>This place feels a lot more like bar/clubs on the west coast. The music, and decor takes me back. I enjoyed myself but I wouldn't say there's anything about Phoenix thats unique in a larger sense. I still had fun though.</td>\n",
       "    </tr>\n",
       "  </tbody>\n",
       "</table>"
      ],
      "text/plain": [
       "<IPython.core.display.HTML object>"
      ]
     },
     "metadata": {},
     "output_type": "display_data"
    }
   ],
   "source": [
    "show_random_elements(dataset[\"train\"])"
   ]
  },
  {
   "cell_type": "markdown",
   "id": "c9df7cd0-23cd-458f-b2b5-f025c3b9fe62",
   "metadata": {},
   "source": [
    "## 预处理数据\n",
    "\n",
    "下载数据集到本地后，使用 Tokenizer 来处理文本，对于长度不等的输入数据，可以使用填充（padding）和截断（truncation）策略来处理。\n",
    "\n",
    "Datasets 的 `map` 方法，支持一次性在整个数据集上应用预处理函数。\n",
    "\n",
    "下面使用填充到最大长度的策略，处理整个数据集："
   ]
  },
  {
   "cell_type": "code",
   "execution_count": 7,
   "id": "8bf2b342-e1dd-4ab6-ad57-28eb2513ae38",
   "metadata": {
    "execution": {
     "iopub.execute_input": "2024-02-15T06:39:42.414895Z",
     "iopub.status.busy": "2024-02-15T06:39:42.414422Z",
     "iopub.status.idle": "2024-02-15T06:40:01.445956Z",
     "shell.execute_reply": "2024-02-15T06:40:01.445408Z",
     "shell.execute_reply.started": "2024-02-15T06:39:42.414875Z"
    }
   },
   "outputs": [
    {
     "name": "stderr",
     "output_type": "stream",
     "text": [
      "Map: 100%|██████████| 50000/50000 [00:13<00:00, 3612.14 examples/s]\n"
     ]
    }
   ],
   "source": [
    "from transformers import AutoTokenizer\n",
    "\n",
    "tokenizer = AutoTokenizer.from_pretrained(\"bert-base-cased\")\n",
    "\n",
    "\n",
    "def tokenize_function(examples):\n",
    "    return tokenizer(examples[\"text\"], padding=\"max_length\", truncation=True)\n",
    "\n",
    "\n",
    "tokenized_datasets = dataset.map(tokenize_function, batched=True)"
   ]
  },
  {
   "cell_type": "code",
   "execution_count": 9,
   "id": "47a415a8-cd15-4a8c-851b-9b4740ef8271",
   "metadata": {
    "execution": {
     "iopub.execute_input": "2024-02-14T16:28:27.141523Z",
     "iopub.status.busy": "2024-02-14T16:28:27.141153Z",
     "iopub.status.idle": "2024-02-14T16:28:27.149381Z",
     "shell.execute_reply": "2024-02-14T16:28:27.148869Z",
     "shell.execute_reply.started": "2024-02-14T16:28:27.141503Z"
    }
   },
   "outputs": [
    {
     "data": {
      "text/html": [
       "<table border=\"1\" class=\"dataframe\">\n",
       "  <thead>\n",
       "    <tr style=\"text-align: right;\">\n",
       "      <th></th>\n",
       "      <th>label</th>\n",
       "      <th>text</th>\n",
       "      <th>input_ids</th>\n",
       "      <th>token_type_ids</th>\n",
       "      <th>attention_mask</th>\n",
       "    </tr>\n",
       "  </thead>\n",
       "  <tbody>\n",
       "    <tr>\n",
       "      <th>0</th>\n",
       "      <td>2 star</td>\n",
       "      <td>My least favorite of the Caesar Ent hotels. Kind of a small casino. Another comped room so we gave it a try twice. Staff is friendly. Hotel gets very crowded and there is not much walking space. \\n\\nRooms are decent. Not very big, but they do the trick. Just make sure you do not get rooms with connecting doors. You can hear EVERYTHING going on in the next room (not fun at 6:00 am hearing a drunken argument).\\n\\nBest thing about the hotel is its center strip. I still wouldn't stay here if I had to pay.</td>\n",
       "      <td>[101, 1422, 1655, 5095, 1104, 1103, 11720, 13832, 1204, 10723, 119, 15994, 1104, 170, 1353, 14330, 119, 2543, 3254, 3537, 1395, 1177, 1195, 1522, 1122, 170, 2222, 3059, 119, 5949, 1110, 4931, 119, 4556, 3370, 1304, 11090, 1105, 1175, 1110, 1136, 1277, 3179, 2000, 119, 165, 183, 165, 183, 2069, 23302, 1116, 1132, 11858, 119, 1753, 1304, 1992, 117, 1133, 1152, 1202, 1103, 7959, 119, 2066, 1294, 1612, 1128, 1202, 1136, 1243, 4045, 1114, 6755, 3581, 119, 1192, 1169, 2100, 142, 17145, 2069, 3663, 24162, 15740, 1280, 1113, 1107, 1103, 1397, 1395, 113, 1136, 4106, 1120, 127, 131, 3135, 1821, ...]</td>\n",
       "      <td>[0, 0, 0, 0, 0, 0, 0, 0, 0, 0, 0, 0, 0, 0, 0, 0, 0, 0, 0, 0, 0, 0, 0, 0, 0, 0, 0, 0, 0, 0, 0, 0, 0, 0, 0, 0, 0, 0, 0, 0, 0, 0, 0, 0, 0, 0, 0, 0, 0, 0, 0, 0, 0, 0, 0, 0, 0, 0, 0, 0, 0, 0, 0, 0, 0, 0, 0, 0, 0, 0, 0, 0, 0, 0, 0, 0, 0, 0, 0, 0, 0, 0, 0, 0, 0, 0, 0, 0, 0, 0, 0, 0, 0, 0, 0, 0, 0, 0, 0, 0, ...]</td>\n",
       "      <td>[1, 1, 1, 1, 1, 1, 1, 1, 1, 1, 1, 1, 1, 1, 1, 1, 1, 1, 1, 1, 1, 1, 1, 1, 1, 1, 1, 1, 1, 1, 1, 1, 1, 1, 1, 1, 1, 1, 1, 1, 1, 1, 1, 1, 1, 1, 1, 1, 1, 1, 1, 1, 1, 1, 1, 1, 1, 1, 1, 1, 1, 1, 1, 1, 1, 1, 1, 1, 1, 1, 1, 1, 1, 1, 1, 1, 1, 1, 1, 1, 1, 1, 1, 1, 1, 1, 1, 1, 1, 1, 1, 1, 1, 1, 1, 1, 1, 1, 1, 1, ...]</td>\n",
       "    </tr>\n",
       "  </tbody>\n",
       "</table>"
      ],
      "text/plain": [
       "<IPython.core.display.HTML object>"
      ]
     },
     "metadata": {},
     "output_type": "display_data"
    }
   ],
   "source": [
    "show_random_elements(tokenized_datasets[\"train\"], num_examples=1)"
   ]
  },
  {
   "cell_type": "markdown",
   "id": "1c33d153-f729-4f04-972c-a764c1cbbb8b",
   "metadata": {},
   "source": [
    "### 数据抽样\n",
    "\n",
    "使用 1000 个数据样本，在 BERT 上演示小规模训练（基于 Pytorch Trainer）\n",
    "\n",
    "`shuffle()`函数会随机重新排列列的值。如果您希望对用于洗牌数据集的算法有更多控制，可以在此函数中指定generator参数来使用不同的numpy.random.Generator。"
   ]
  },
  {
   "cell_type": "code",
   "execution_count": 8,
   "id": "a17317d8-3c6a-467f-843d-87491f600db1",
   "metadata": {
    "execution": {
     "iopub.execute_input": "2024-02-15T06:40:33.000559Z",
     "iopub.status.busy": "2024-02-15T06:40:33.000127Z",
     "iopub.status.idle": "2024-02-15T06:40:33.443454Z",
     "shell.execute_reply": "2024-02-15T06:40:33.442908Z",
     "shell.execute_reply.started": "2024-02-15T06:40:33.000540Z"
    }
   },
   "outputs": [],
   "source": [
    "small_train_dataset = tokenized_datasets[\"train\"].shuffle(seed=42).select(range(1000))\n",
    "small_eval_dataset = tokenized_datasets[\"test\"].shuffle(seed=42).select(range(1000))"
   ]
  },
  {
   "cell_type": "markdown",
   "id": "d3b65d63-2d3a-4a56-bc31-6e88a29e9dec",
   "metadata": {},
   "source": [
    "## 微调训练配置\n",
    "\n",
    "### 加载 BERT 模型\n",
    "\n",
    "警告通知我们正在丢弃一些权重（`vocab_transform` 和 `vocab_layer_norm` 层），并随机初始化其他一些权重（`pre_classifier` 和 `classifier` 层）。在微调模型情况下是绝对正常的，因为我们正在删除用于预训练模型的掩码语言建模任务的头部，并用一个新的头部替换它，对于这个新头部，我们没有预训练的权重，所以库会警告我们在用它进行推理之前应该对这个模型进行微调，而这正是我们要做的事情。"
   ]
  },
  {
   "cell_type": "code",
   "execution_count": 9,
   "id": "4d2af4df-abd4-4a4b-94b6-b0e7375304ed",
   "metadata": {
    "execution": {
     "iopub.execute_input": "2024-02-15T06:40:35.602423Z",
     "iopub.status.busy": "2024-02-15T06:40:35.602123Z",
     "iopub.status.idle": "2024-02-15T06:40:39.088428Z",
     "shell.execute_reply": "2024-02-15T06:40:39.087859Z",
     "shell.execute_reply.started": "2024-02-15T06:40:35.602405Z"
    }
   },
   "outputs": [
    {
     "name": "stderr",
     "output_type": "stream",
     "text": [
      "Some weights of BertForSequenceClassification were not initialized from the model checkpoint at bert-base-cased and are newly initialized: ['classifier.bias', 'classifier.weight']\n",
      "You should probably TRAIN this model on a down-stream task to be able to use it for predictions and inference.\n"
     ]
    }
   ],
   "source": [
    "from transformers import AutoModelForSequenceClassification\n",
    "\n",
    "model = AutoModelForSequenceClassification.from_pretrained(\"bert-base-cased\", num_labels=5)"
   ]
  },
  {
   "cell_type": "markdown",
   "id": "b44014df-b52c-4c72-9e9f-54424725a473",
   "metadata": {},
   "source": [
    "### 训练超参数（TrainingArguments）\n",
    "\n",
    "完整配置参数与默认值：https://huggingface.co/docs/transformers/v4.36.1/en/main_classes/trainer#transformers.TrainingArguments\n",
    "\n",
    "源代码定义：https://github.com/huggingface/transformers/blob/v4.36.1/src/transformers/training_args.py#L161\n",
    "\n",
    "**最重要配置：模型权重保存路径(output_dir)**"
   ]
  },
  {
   "cell_type": "code",
   "execution_count": 10,
   "id": "98c01d5c-de72-4ff0-b11d-e07ac5346888",
   "metadata": {
    "execution": {
     "iopub.execute_input": "2024-02-15T06:40:53.832835Z",
     "iopub.status.busy": "2024-02-15T06:40:53.832415Z",
     "iopub.status.idle": "2024-02-15T06:40:53.857226Z",
     "shell.execute_reply": "2024-02-15T06:40:53.856710Z",
     "shell.execute_reply.started": "2024-02-15T06:40:53.832816Z"
    }
   },
   "outputs": [],
   "source": [
    "from transformers import TrainingArguments\n",
    "\n",
    "model_dir = \"models/bert-base-cased-finetune-yelp\"\n",
    "\n",
    "# logging_steps 默认值为500，根据我们的训练数据和步长，将其设置为100\n",
    "training_args = TrainingArguments(output_dir=model_dir,\n",
    "                                  per_device_train_batch_size=16,\n",
    "                                  num_train_epochs=5,\n",
    "                                  logging_steps=100)"
   ]
  },
  {
   "cell_type": "code",
   "execution_count": 11,
   "id": "0ce03480-3aaa-48ea-a0c6-a177b8d8e34f",
   "metadata": {
    "execution": {
     "iopub.execute_input": "2024-02-15T06:40:55.263247Z",
     "iopub.status.busy": "2024-02-15T06:40:55.262798Z",
     "iopub.status.idle": "2024-02-15T06:40:55.266569Z",
     "shell.execute_reply": "2024-02-15T06:40:55.266084Z",
     "shell.execute_reply.started": "2024-02-15T06:40:55.263227Z"
    },
    "scrolled": true
   },
   "outputs": [
    {
     "name": "stdout",
     "output_type": "stream",
     "text": [
      "TrainingArguments(\n",
      "_n_gpu=1,\n",
      "adafactor=False,\n",
      "adam_beta1=0.9,\n",
      "adam_beta2=0.999,\n",
      "adam_epsilon=1e-08,\n",
      "auto_find_batch_size=False,\n",
      "bf16=False,\n",
      "bf16_full_eval=False,\n",
      "data_seed=None,\n",
      "dataloader_drop_last=False,\n",
      "dataloader_num_workers=0,\n",
      "dataloader_persistent_workers=False,\n",
      "dataloader_pin_memory=True,\n",
      "ddp_backend=None,\n",
      "ddp_broadcast_buffers=None,\n",
      "ddp_bucket_cap_mb=None,\n",
      "ddp_find_unused_parameters=None,\n",
      "ddp_timeout=1800,\n",
      "debug=[],\n",
      "deepspeed=None,\n",
      "disable_tqdm=False,\n",
      "dispatch_batches=None,\n",
      "do_eval=False,\n",
      "do_predict=False,\n",
      "do_train=False,\n",
      "eval_accumulation_steps=None,\n",
      "eval_delay=0,\n",
      "eval_steps=None,\n",
      "evaluation_strategy=no,\n",
      "fp16=False,\n",
      "fp16_backend=auto,\n",
      "fp16_full_eval=False,\n",
      "fp16_opt_level=O1,\n",
      "fsdp=[],\n",
      "fsdp_config={'min_num_params': 0, 'xla': False, 'xla_fsdp_grad_ckpt': False},\n",
      "fsdp_min_num_params=0,\n",
      "fsdp_transformer_layer_cls_to_wrap=None,\n",
      "full_determinism=False,\n",
      "gradient_accumulation_steps=1,\n",
      "gradient_checkpointing=False,\n",
      "gradient_checkpointing_kwargs=None,\n",
      "greater_is_better=None,\n",
      "group_by_length=False,\n",
      "half_precision_backend=auto,\n",
      "hub_always_push=False,\n",
      "hub_model_id=None,\n",
      "hub_private_repo=False,\n",
      "hub_strategy=every_save,\n",
      "hub_token=<HUB_TOKEN>,\n",
      "ignore_data_skip=False,\n",
      "include_inputs_for_metrics=False,\n",
      "include_num_input_tokens_seen=False,\n",
      "include_tokens_per_second=False,\n",
      "jit_mode_eval=False,\n",
      "label_names=None,\n",
      "label_smoothing_factor=0.0,\n",
      "learning_rate=5e-05,\n",
      "length_column_name=length,\n",
      "load_best_model_at_end=False,\n",
      "local_rank=0,\n",
      "log_level=passive,\n",
      "log_level_replica=warning,\n",
      "log_on_each_node=True,\n",
      "logging_dir=models/bert-base-cased-finetune-yelp/runs/Feb15_06-40-53_ip-172-31-39-121.ec2.internal,\n",
      "logging_first_step=False,\n",
      "logging_nan_inf_filter=True,\n",
      "logging_steps=100,\n",
      "logging_strategy=steps,\n",
      "lr_scheduler_kwargs={},\n",
      "lr_scheduler_type=linear,\n",
      "max_grad_norm=1.0,\n",
      "max_steps=-1,\n",
      "metric_for_best_model=None,\n",
      "mp_parameters=,\n",
      "neftune_noise_alpha=None,\n",
      "no_cuda=False,\n",
      "num_train_epochs=5,\n",
      "optim=adamw_torch,\n",
      "optim_args=None,\n",
      "output_dir=models/bert-base-cased-finetune-yelp,\n",
      "overwrite_output_dir=False,\n",
      "past_index=-1,\n",
      "per_device_eval_batch_size=8,\n",
      "per_device_train_batch_size=16,\n",
      "prediction_loss_only=False,\n",
      "push_to_hub=False,\n",
      "push_to_hub_model_id=None,\n",
      "push_to_hub_organization=None,\n",
      "push_to_hub_token=<PUSH_TO_HUB_TOKEN>,\n",
      "ray_scope=last,\n",
      "remove_unused_columns=True,\n",
      "report_to=[],\n",
      "resume_from_checkpoint=None,\n",
      "run_name=models/bert-base-cased-finetune-yelp,\n",
      "save_on_each_node=False,\n",
      "save_only_model=False,\n",
      "save_safetensors=True,\n",
      "save_steps=500,\n",
      "save_strategy=steps,\n",
      "save_total_limit=None,\n",
      "seed=42,\n",
      "skip_memory_metrics=True,\n",
      "split_batches=False,\n",
      "tf32=None,\n",
      "torch_compile=False,\n",
      "torch_compile_backend=None,\n",
      "torch_compile_mode=None,\n",
      "torchdynamo=None,\n",
      "tpu_metrics_debug=False,\n",
      "tpu_num_cores=None,\n",
      "use_cpu=False,\n",
      "use_ipex=False,\n",
      "use_legacy_prediction_loop=False,\n",
      "use_mps_device=False,\n",
      "warmup_ratio=0.0,\n",
      "warmup_steps=0,\n",
      "weight_decay=0.0,\n",
      ")\n"
     ]
    }
   ],
   "source": [
    "# 完整的超参数配置\n",
    "print(training_args)"
   ]
  },
  {
   "cell_type": "markdown",
   "id": "7ebd3365-d359-4ab4-a300-4717590cc240",
   "metadata": {},
   "source": [
    "### 训练过程中的指标评估（Evaluate)\n",
    "\n",
    "**[Hugging Face Evaluate 库](https://huggingface.co/docs/evaluate/index)** 支持使用一行代码，获得数十种不同领域（自然语言处理、计算机视觉、强化学习等）的评估方法。 当前支持 **完整评估指标：https://huggingface.co/evaluate-metric**\n",
    "\n",
    "训练器（Trainer）在训练过程中不会自动评估模型性能。因此，我们需要向训练器传递一个函数来计算和报告指标。 \n",
    "\n",
    "Evaluate库提供了一个简单的准确率函数，您可以使用`evaluate.load`函数加载"
   ]
  },
  {
   "cell_type": "code",
   "execution_count": 12,
   "id": "2a8ef138-5bf2-41e5-8c68-df8e11f4e98f",
   "metadata": {
    "execution": {
     "iopub.execute_input": "2024-02-15T06:40:59.534447Z",
     "iopub.status.busy": "2024-02-15T06:40:59.534006Z",
     "iopub.status.idle": "2024-02-15T06:41:00.900106Z",
     "shell.execute_reply": "2024-02-15T06:41:00.899564Z",
     "shell.execute_reply.started": "2024-02-15T06:40:59.534428Z"
    }
   },
   "outputs": [],
   "source": [
    "import numpy as np\n",
    "import evaluate\n",
    "\n",
    "metric = evaluate.load(\"accuracy\")"
   ]
  },
  {
   "cell_type": "markdown",
   "id": "70d406c0-56d0-4a54-9c6c-e126ab7f5254",
   "metadata": {},
   "source": [
    "\n",
    "接着，调用 `compute` 函数来计算预测的准确率。\n",
    "\n",
    "在将预测传递给 compute 函数之前，我们需要将 logits 转换为预测值（**所有Transformers 模型都返回 logits**）。"
   ]
  },
  {
   "cell_type": "code",
   "execution_count": 13,
   "id": "f46d2e59-1ebf-43d2-bc86-6b57a4d24d19",
   "metadata": {
    "execution": {
     "iopub.execute_input": "2024-02-15T06:41:02.111202Z",
     "iopub.status.busy": "2024-02-15T06:41:02.110577Z",
     "iopub.status.idle": "2024-02-15T06:41:02.114083Z",
     "shell.execute_reply": "2024-02-15T06:41:02.113595Z",
     "shell.execute_reply.started": "2024-02-15T06:41:02.111182Z"
    }
   },
   "outputs": [],
   "source": [
    "def compute_metrics(eval_pred):\n",
    "    logits, labels = eval_pred\n",
    "    predictions = np.argmax(logits, axis=-1)\n",
    "    return metric.compute(predictions=predictions, references=labels)"
   ]
  },
  {
   "cell_type": "markdown",
   "id": "e2feba67-9ca9-4793-9a15-3eaa426df2a1",
   "metadata": {},
   "source": [
    "#### 训练过程指标监控\n",
    "\n",
    "通常，为了监控训练过程中的评估指标变化，我们可以在`TrainingArguments`指定`evaluation_strategy`参数，以便在 epoch 结束时报告评估指标。"
   ]
  },
  {
   "cell_type": "code",
   "execution_count": 16,
   "id": "afaaee18-4986-4e39-8ad9-b8d413ab4cd1",
   "metadata": {
    "execution": {
     "iopub.execute_input": "2024-02-15T06:50:08.875993Z",
     "iopub.status.busy": "2024-02-15T06:50:08.875523Z",
     "iopub.status.idle": "2024-02-15T06:50:08.881107Z",
     "shell.execute_reply": "2024-02-15T06:50:08.880574Z",
     "shell.execute_reply.started": "2024-02-15T06:50:08.875960Z"
    }
   },
   "outputs": [],
   "source": [
    "from transformers import TrainingArguments, Trainer\n",
    "\n",
    "training_args = TrainingArguments(output_dir=model_dir,\n",
    "                                  evaluation_strategy=\"steps\", \n",
    "                                  per_device_train_batch_size=16,\n",
    "                                  num_train_epochs=3,\n",
    "                                  logging_steps=30)"
   ]
  },
  {
   "cell_type": "markdown",
   "id": "d47d6981-e444-4c0f-a7cb-dd7f2ba8df12",
   "metadata": {},
   "source": [
    "## 开始训练\n",
    "\n",
    "### 实例化训练器（Trainer）\n",
    "\n",
    "`kernel version` 版本问题：暂不影响本示例代码运行"
   ]
  },
  {
   "cell_type": "code",
   "execution_count": 17,
   "id": "ca1d12ac-89dc-4c30-8282-f859724c0062",
   "metadata": {
    "execution": {
     "iopub.execute_input": "2024-02-15T06:50:16.886723Z",
     "iopub.status.busy": "2024-02-15T06:50:16.886473Z",
     "iopub.status.idle": "2024-02-15T06:50:16.893601Z",
     "shell.execute_reply": "2024-02-15T06:50:16.893094Z",
     "shell.execute_reply.started": "2024-02-15T06:50:16.886703Z"
    }
   },
   "outputs": [],
   "source": [
    "trainer = Trainer(\n",
    "    model=model,\n",
    "    args=training_args,\n",
    "    train_dataset=small_train_dataset,\n",
    "    eval_dataset=small_eval_dataset,\n",
    "    compute_metrics=compute_metrics,\n",
    ")"
   ]
  },
  {
   "cell_type": "markdown",
   "id": "a833e0db-1168-4a3c-8b75-bfdcef8c5157",
   "metadata": {},
   "source": [
    "## 使用 nvidia-smi 查看 GPU 使用\n",
    "\n",
    "为了实时查看GPU使用情况，可以使用 `watch` 指令实现轮询：`watch -n 1 nvidia-smi`:\n",
    "\n",
    "```shell\n",
    "Every 1.0s: nvidia-smi                                                   Wed Dec 20 14:37:41 2023\n",
    "\n",
    "Wed Dec 20 14:37:41 2023\n",
    "+---------------------------------------------------------------------------------------+\n",
    "| NVIDIA-SMI 535.129.03             Driver Version: 535.129.03   CUDA Version: 12.2     |\n",
    "|-----------------------------------------+----------------------+----------------------+\n",
    "| GPU  Name                 Persistence-M | Bus-Id        Disp.A | Volatile Uncorr. ECC |\n",
    "| Fan  Temp   Perf          Pwr:Usage/Cap |         Memory-Usage | GPU-Util  Compute M. |\n",
    "|                                         |                      |               MIG M. |\n",
    "|=========================================+======================+======================|\n",
    "|   0  Tesla T4                       Off | 00000000:00:0D.0 Off |                    0 |\n",
    "| N/A   64C    P0              69W /  70W |   6665MiB / 15360MiB |     98%      Default |\n",
    "|                                         |                      |                  N/A |\n",
    "+-----------------------------------------+----------------------+----------------------+\n",
    "\n",
    "+---------------------------------------------------------------------------------------+\n",
    "| Processes:                                                                            |\n",
    "|  GPU   GI   CI        PID   Type   Process name                            GPU Memory |\n",
    "|        ID   ID                                                             Usage      |\n",
    "|=======================================================================================|\n",
    "|    0   N/A  N/A     18395      C   /root/miniconda3/bin/python                6660MiB |\n",
    "+---------------------------------------------------------------------------------------+\n",
    "```"
   ]
  },
  {
   "cell_type": "code",
   "execution_count": 18,
   "id": "accfe921-471d-481a-96da-c491cdebad0c",
   "metadata": {
    "execution": {
     "iopub.execute_input": "2024-02-15T06:50:19.044930Z",
     "iopub.status.busy": "2024-02-15T06:50:19.044502Z",
     "iopub.status.idle": "2024-02-15T06:52:42.800707Z",
     "shell.execute_reply": "2024-02-15T06:52:42.800203Z",
     "shell.execute_reply.started": "2024-02-15T06:50:19.044911Z"
    }
   },
   "outputs": [
    {
     "data": {
      "text/html": [
       "\n",
       "    <div>\n",
       "      \n",
       "      <progress value='189' max='189' style='width:300px; height:20px; vertical-align: middle;'></progress>\n",
       "      [189/189 02:21, Epoch 3/3]\n",
       "    </div>\n",
       "    <table border=\"1\" class=\"dataframe\">\n",
       "  <thead>\n",
       " <tr style=\"text-align: left;\">\n",
       "      <th>Step</th>\n",
       "      <th>Training Loss</th>\n",
       "      <th>Validation Loss</th>\n",
       "      <th>Accuracy</th>\n",
       "    </tr>\n",
       "  </thead>\n",
       "  <tbody>\n",
       "    <tr>\n",
       "      <td>30</td>\n",
       "      <td>1.612000</td>\n",
       "      <td>1.583852</td>\n",
       "      <td>0.310000</td>\n",
       "    </tr>\n",
       "    <tr>\n",
       "      <td>60</td>\n",
       "      <td>1.466200</td>\n",
       "      <td>1.251792</td>\n",
       "      <td>0.441000</td>\n",
       "    </tr>\n",
       "    <tr>\n",
       "      <td>90</td>\n",
       "      <td>1.115900</td>\n",
       "      <td>1.130412</td>\n",
       "      <td>0.501000</td>\n",
       "    </tr>\n",
       "    <tr>\n",
       "      <td>120</td>\n",
       "      <td>1.039300</td>\n",
       "      <td>1.077675</td>\n",
       "      <td>0.522000</td>\n",
       "    </tr>\n",
       "    <tr>\n",
       "      <td>150</td>\n",
       "      <td>0.748800</td>\n",
       "      <td>0.967639</td>\n",
       "      <td>0.573000</td>\n",
       "    </tr>\n",
       "    <tr>\n",
       "      <td>180</td>\n",
       "      <td>0.709500</td>\n",
       "      <td>0.979449</td>\n",
       "      <td>0.585000</td>\n",
       "    </tr>\n",
       "  </tbody>\n",
       "</table><p>"
      ],
      "text/plain": [
       "<IPython.core.display.HTML object>"
      ]
     },
     "metadata": {},
     "output_type": "display_data"
    },
    {
     "data": {
      "text/plain": [
       "TrainOutput(global_step=189, training_loss=1.0928932422052615, metrics={'train_runtime': 143.6279, 'train_samples_per_second': 20.887, 'train_steps_per_second': 1.316, 'total_flos': 789354427392000.0, 'train_loss': 1.0928932422052615, 'epoch': 3.0})"
      ]
     },
     "execution_count": 18,
     "metadata": {},
     "output_type": "execute_result"
    }
   ],
   "source": [
    "trainer.train()"
   ]
  },
  {
   "cell_type": "code",
   "execution_count": 19,
   "id": "6d581099-37a4-4470-b051-1ada38554089",
   "metadata": {
    "execution": {
     "iopub.execute_input": "2024-02-14T16:51:51.164686Z",
     "iopub.status.busy": "2024-02-14T16:51:51.164168Z",
     "iopub.status.idle": "2024-02-14T16:51:51.181410Z",
     "shell.execute_reply": "2024-02-14T16:51:51.180880Z",
     "shell.execute_reply.started": "2024-02-14T16:51:51.164667Z"
    }
   },
   "outputs": [],
   "source": [
    "small_test_dataset = tokenized_datasets[\"test\"].shuffle(seed=64).select(range(100))"
   ]
  },
  {
   "cell_type": "code",
   "execution_count": 20,
   "id": "ffb47eab-1370-491e-8a84-6d5347a350b2",
   "metadata": {
    "execution": {
     "iopub.execute_input": "2024-02-14T16:51:52.699281Z",
     "iopub.status.busy": "2024-02-14T16:51:52.698898Z",
     "iopub.status.idle": "2024-02-14T16:51:53.691144Z",
     "shell.execute_reply": "2024-02-14T16:51:53.690652Z",
     "shell.execute_reply.started": "2024-02-14T16:51:52.699261Z"
    }
   },
   "outputs": [
    {
     "data": {
      "text/html": [
       "\n",
       "    <div>\n",
       "      \n",
       "      <progress value='13' max='13' style='width:300px; height:20px; vertical-align: middle;'></progress>\n",
       "      [13/13 00:00]\n",
       "    </div>\n",
       "    "
      ],
      "text/plain": [
       "<IPython.core.display.HTML object>"
      ]
     },
     "metadata": {},
     "output_type": "display_data"
    },
    {
     "data": {
      "text/plain": [
       "{'eval_loss': 1.0569603443145752,\n",
       " 'eval_accuracy': 0.5,\n",
       " 'eval_runtime': 0.9862,\n",
       " 'eval_samples_per_second': 101.397,\n",
       " 'eval_steps_per_second': 13.182,\n",
       " 'epoch': 3.0}"
      ]
     },
     "execution_count": 20,
     "metadata": {},
     "output_type": "execute_result"
    }
   ],
   "source": [
    "trainer.evaluate(small_test_dataset)"
   ]
  },
  {
   "cell_type": "markdown",
   "id": "27a55686-7c43-4ab8-a5cd-0e77f14c7c52",
   "metadata": {},
   "source": [
    "### 保存模型和训练状态\n",
    "\n",
    "- 使用 `trainer.save_model` 方法保存模型，后续可以通过 from_pretrained() 方法重新加载\n",
    "- 使用 `trainer.save_state` 方法保存训练状态"
   ]
  },
  {
   "cell_type": "code",
   "execution_count": 21,
   "id": "ad0cbc14-9ef7-450f-a1a3-4f92b6486f41",
   "metadata": {
    "execution": {
     "iopub.execute_input": "2024-02-14T16:52:12.343245Z",
     "iopub.status.busy": "2024-02-14T16:52:12.342871Z",
     "iopub.status.idle": "2024-02-14T16:52:12.689883Z",
     "shell.execute_reply": "2024-02-14T16:52:12.689360Z",
     "shell.execute_reply.started": "2024-02-14T16:52:12.343224Z"
    }
   },
   "outputs": [],
   "source": [
    "trainer.save_model(model_dir)"
   ]
  },
  {
   "cell_type": "code",
   "execution_count": 22,
   "id": "badf5868-2847-439d-a73e-42d1cca67b5e",
   "metadata": {
    "execution": {
     "iopub.execute_input": "2024-02-14T16:52:16.192828Z",
     "iopub.status.busy": "2024-02-14T16:52:16.192443Z",
     "iopub.status.idle": "2024-02-14T16:52:16.196124Z",
     "shell.execute_reply": "2024-02-14T16:52:16.195625Z",
     "shell.execute_reply.started": "2024-02-14T16:52:16.192809Z"
    }
   },
   "outputs": [],
   "source": [
    "trainer.save_state()"
   ]
  },
  {
   "cell_type": "code",
   "execution_count": 23,
   "id": "fd92e35d-fed7-4ff2-aa84-27b5e29b917a",
   "metadata": {},
   "outputs": [],
   "source": [
    "# trainer.model.save_pretrained(\"./\")"
   ]
  },
  {
   "cell_type": "markdown",
   "id": "61828934-01da-4fc3-9e75-8d754c25dfbc",
   "metadata": {},
   "source": [
    "## Homework: 使用完整的 YelpReviewFull 数据集训练，看 Acc 最高能到多少"
   ]
  },
  {
   "cell_type": "code",
   "execution_count": 19,
   "id": "a9d00b3f-c135-4057-ae53-21316e73e41d",
   "metadata": {
    "execution": {
     "iopub.execute_input": "2024-02-15T06:55:47.170563Z",
     "iopub.status.busy": "2024-02-15T06:55:47.170317Z",
     "iopub.status.idle": "2024-02-15T06:55:47.183240Z",
     "shell.execute_reply": "2024-02-15T06:55:47.182715Z",
     "shell.execute_reply.started": "2024-02-15T06:55:47.170544Z"
    }
   },
   "outputs": [],
   "source": [
    "# 设定训练数据为100000，测试数据集为10000\n",
    "homework_train_dataset = tokenized_datasets[\"train\"].shuffle(seed=42).select(range(100000))\n",
    "homework_eval_dataset = tokenized_datasets[\"test\"].shuffle(seed=42).select(range(10000))"
   ]
  },
  {
   "cell_type": "code",
   "execution_count": 20,
   "id": "6ee2580a-7a5a-46ae-a28b-b41e9e838eb1",
   "metadata": {
    "execution": {
     "iopub.execute_input": "2024-02-15T06:56:24.860660Z",
     "iopub.status.busy": "2024-02-15T06:56:24.860278Z",
     "iopub.status.idle": "2024-02-15T06:56:24.865411Z",
     "shell.execute_reply": "2024-02-15T06:56:24.864901Z",
     "shell.execute_reply.started": "2024-02-15T06:56:24.860641Z"
    }
   },
   "outputs": [],
   "source": [
    "training_args = TrainingArguments(output_dir=model_dir,\n",
    "                                  evaluation_strategy=\"steps\", \n",
    "                                  per_device_train_batch_size=16,\n",
    "                                  num_train_epochs=1,\n",
    "                                  logging_steps=800)"
   ]
  },
  {
   "cell_type": "code",
   "execution_count": 21,
   "id": "6d11f9dd-2979-4eb0-ad67-2826bda4a6bb",
   "metadata": {
    "execution": {
     "iopub.execute_input": "2024-02-15T06:56:25.827300Z",
     "iopub.status.busy": "2024-02-15T06:56:25.826812Z",
     "iopub.status.idle": "2024-02-15T06:56:25.834921Z",
     "shell.execute_reply": "2024-02-15T06:56:25.834416Z",
     "shell.execute_reply.started": "2024-02-15T06:56:25.827280Z"
    }
   },
   "outputs": [],
   "source": [
    "trainer = Trainer(\n",
    "    model=model,\n",
    "    args=training_args,\n",
    "    train_dataset=homework_train_dataset,\n",
    "    eval_dataset=homework_eval_dataset,\n",
    "    compute_metrics=compute_metrics,\n",
    ")"
   ]
  },
  {
   "cell_type": "code",
   "execution_count": 22,
   "id": "15d33606-4f1e-4897-893a-edfc2fa17b92",
   "metadata": {
    "execution": {
     "iopub.execute_input": "2024-02-15T06:56:27.511490Z",
     "iopub.status.busy": "2024-02-15T06:56:27.511101Z",
     "iopub.status.idle": "2024-02-15T07:52:37.571913Z",
     "shell.execute_reply": "2024-02-15T07:52:37.571409Z",
     "shell.execute_reply.started": "2024-02-15T06:56:27.511469Z"
    }
   },
   "outputs": [
    {
     "data": {
      "text/html": [
       "\n",
       "    <div>\n",
       "      \n",
       "      <progress value='6250' max='6250' style='width:300px; height:20px; vertical-align: middle;'></progress>\n",
       "      [6250/6250 56:09, Epoch 1/1]\n",
       "    </div>\n",
       "    <table border=\"1\" class=\"dataframe\">\n",
       "  <thead>\n",
       " <tr style=\"text-align: left;\">\n",
       "      <th>Step</th>\n",
       "      <th>Training Loss</th>\n",
       "      <th>Validation Loss</th>\n",
       "      <th>Accuracy</th>\n",
       "    </tr>\n",
       "  </thead>\n",
       "  <tbody>\n",
       "    <tr>\n",
       "      <td>800</td>\n",
       "      <td>1.019100</td>\n",
       "      <td>0.963118</td>\n",
       "      <td>0.572500</td>\n",
       "    </tr>\n",
       "    <tr>\n",
       "      <td>1600</td>\n",
       "      <td>0.939700</td>\n",
       "      <td>0.895611</td>\n",
       "      <td>0.597500</td>\n",
       "    </tr>\n",
       "    <tr>\n",
       "      <td>2400</td>\n",
       "      <td>0.891000</td>\n",
       "      <td>0.877344</td>\n",
       "      <td>0.615900</td>\n",
       "    </tr>\n",
       "    <tr>\n",
       "      <td>3200</td>\n",
       "      <td>0.849300</td>\n",
       "      <td>0.835023</td>\n",
       "      <td>0.634600</td>\n",
       "    </tr>\n",
       "    <tr>\n",
       "      <td>4000</td>\n",
       "      <td>0.833200</td>\n",
       "      <td>0.809816</td>\n",
       "      <td>0.638200</td>\n",
       "    </tr>\n",
       "    <tr>\n",
       "      <td>4800</td>\n",
       "      <td>0.814600</td>\n",
       "      <td>0.808769</td>\n",
       "      <td>0.643200</td>\n",
       "    </tr>\n",
       "    <tr>\n",
       "      <td>5600</td>\n",
       "      <td>0.784600</td>\n",
       "      <td>0.779599</td>\n",
       "      <td>0.656700</td>\n",
       "    </tr>\n",
       "  </tbody>\n",
       "</table><p>"
      ],
      "text/plain": [
       "<IPython.core.display.HTML object>"
      ]
     },
     "metadata": {},
     "output_type": "display_data"
    },
    {
     "data": {
      "text/plain": [
       "TrainOutput(global_step=6250, training_loss=0.866217275390625, metrics={'train_runtime': 3369.7804, 'train_samples_per_second': 29.676, 'train_steps_per_second': 1.855, 'total_flos': 2.63118142464e+16, 'train_loss': 0.866217275390625, 'epoch': 1.0})"
      ]
     },
     "execution_count": 22,
     "metadata": {},
     "output_type": "execute_result"
    }
   ],
   "source": [
    "trainer.train()"
   ]
  },
  {
   "cell_type": "code",
   "execution_count": 23,
   "id": "1ed196f3-cb15-48d2-aa93-b3346d017439",
   "metadata": {
    "execution": {
     "iopub.execute_input": "2024-02-15T07:54:35.209048Z",
     "iopub.status.busy": "2024-02-15T07:54:35.208663Z",
     "iopub.status.idle": "2024-02-15T07:56:11.598305Z",
     "shell.execute_reply": "2024-02-15T07:56:11.597779Z",
     "shell.execute_reply.started": "2024-02-15T07:54:35.209029Z"
    }
   },
   "outputs": [
    {
     "data": {
      "text/html": [
       "\n",
       "    <div>\n",
       "      \n",
       "      <progress value='1250' max='1250' style='width:300px; height:20px; vertical-align: middle;'></progress>\n",
       "      [1250/1250 01:36]\n",
       "    </div>\n",
       "    "
      ],
      "text/plain": [
       "<IPython.core.display.HTML object>"
      ]
     },
     "metadata": {},
     "output_type": "display_data"
    },
    {
     "data": {
      "text/plain": [
       "{'eval_loss': 0.7722072005271912,\n",
       " 'eval_accuracy': 0.6597,\n",
       " 'eval_runtime': 96.383,\n",
       " 'eval_samples_per_second': 103.753,\n",
       " 'eval_steps_per_second': 12.969,\n",
       " 'epoch': 1.0}"
      ]
     },
     "execution_count": 23,
     "metadata": {},
     "output_type": "execute_result"
    }
   ],
   "source": [
    "trainer.evaluate(homework_eval_dataset)"
   ]
  },
  {
   "cell_type": "code",
   "execution_count": 24,
   "id": "24e4e8fe-c4d0-42b3-91db-2ad4dc905940",
   "metadata": {
    "execution": {
     "iopub.execute_input": "2024-02-15T07:56:26.011757Z",
     "iopub.status.busy": "2024-02-15T07:56:26.011391Z",
     "iopub.status.idle": "2024-02-15T07:56:28.634656Z",
     "shell.execute_reply": "2024-02-15T07:56:28.634088Z",
     "shell.execute_reply.started": "2024-02-15T07:56:26.011738Z"
    }
   },
   "outputs": [],
   "source": [
    "trainer.save_model(model_dir)"
   ]
  },
  {
   "cell_type": "code",
   "execution_count": null,
   "id": "642e80d7-6e2d-463b-8d52-4773838f025e",
   "metadata": {},
   "outputs": [],
   "source": []
  }
 ],
 "metadata": {
  "kernelspec": {
   "display_name": "Python 3 (ipykernel)",
   "language": "python",
   "name": "python3"
  },
  "language_info": {
   "codemirror_mode": {
    "name": "ipython",
    "version": 3
   },
   "file_extension": ".py",
   "mimetype": "text/x-python",
   "name": "python",
   "nbconvert_exporter": "python",
   "pygments_lexer": "ipython3",
   "version": "3.10.13"
  }
 },
 "nbformat": 4,
 "nbformat_minor": 5
}
