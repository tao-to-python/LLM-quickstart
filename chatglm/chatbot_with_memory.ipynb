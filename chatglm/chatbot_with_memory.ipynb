{
 "cells": [
  {
   "cell_type": "markdown",
   "id": "1af0fbae-98f6-4a91-a0a8-cefed3ff445b",
   "metadata": {},
   "source": [
    "# LangChain 调用私有化 ChatGLM 模型\n",
    "\n",
    "## LLMChain 实现单轮对话"
   ]
  },
  {
   "cell_type": "code",
   "execution_count": 1,
   "id": "d04b3bdb-98ca-4b02-94d6-0871e1bea6a1",
   "metadata": {
    "execution": {
     "iopub.execute_input": "2024-02-11T16:36:43.050519Z",
     "iopub.status.busy": "2024-02-11T16:36:43.050051Z",
     "iopub.status.idle": "2024-02-11T16:36:44.555440Z",
     "shell.execute_reply": "2024-02-11T16:36:44.554869Z",
     "shell.execute_reply.started": "2024-02-11T16:36:43.050496Z"
    }
   },
   "outputs": [],
   "source": [
    "from langchain_community.llms import ChatGLM\n",
    "from langchain.chains import LLMChain\n",
    "from langchain.prompts import PromptTemplate"
   ]
  },
  {
   "cell_type": "code",
   "execution_count": 2,
   "id": "5b32e8d2-50b8-4566-9081-716aa5df5d8c",
   "metadata": {
    "execution": {
     "iopub.execute_input": "2024-02-11T16:36:45.570838Z",
     "iopub.status.busy": "2024-02-11T16:36:45.570417Z",
     "iopub.status.idle": "2024-02-11T16:36:45.573584Z",
     "shell.execute_reply": "2024-02-11T16:36:45.573098Z",
     "shell.execute_reply.started": "2024-02-11T16:36:45.570816Z"
    }
   },
   "outputs": [],
   "source": [
    "# ChatGLM 私有化部署的 Endpoint URL\n",
    "endpoint_url = \"http://127.0.0.1:8000\"\n",
    "# endpoint_url = \"http://127.0.0.1:37524\"\n",
    "# 127.0.0.1:37524"
   ]
  },
  {
   "cell_type": "code",
   "execution_count": 3,
   "id": "8208a4a1-7863-414b-b2a9-2f86d6ddcf5a",
   "metadata": {
    "execution": {
     "iopub.execute_input": "2024-02-11T16:36:46.650751Z",
     "iopub.status.busy": "2024-02-11T16:36:46.650249Z",
     "iopub.status.idle": "2024-02-11T16:36:46.654720Z",
     "shell.execute_reply": "2024-02-11T16:36:46.654236Z",
     "shell.execute_reply.started": "2024-02-11T16:36:46.650731Z"
    }
   },
   "outputs": [],
   "source": [
    "# 实例化 ChatGLM 大模型\n",
    "llm = ChatGLM(\n",
    "    endpoint_url=endpoint_url,\n",
    "    max_token=80000,\n",
    "    history=[\n",
    "        [\"你是一个专业的销售顾问\", \"欢迎问我任何问题。\"]\n",
    "    ],\n",
    "    top_p=0.9,\n",
    "    model_kwargs={\"sample_model_args\": False},\n",
    ")"
   ]
  },
  {
   "cell_type": "code",
   "execution_count": 4,
   "id": "b03b42d0-a4f7-48eb-a795-64d891703a38",
   "metadata": {
    "execution": {
     "iopub.execute_input": "2024-02-11T16:36:47.896826Z",
     "iopub.status.busy": "2024-02-11T16:36:47.896443Z",
     "iopub.status.idle": "2024-02-11T16:36:47.899815Z",
     "shell.execute_reply": "2024-02-11T16:36:47.899307Z",
     "shell.execute_reply.started": "2024-02-11T16:36:47.896805Z"
    }
   },
   "outputs": [],
   "source": [
    "# 提示词模板\n",
    "template = \"\"\"{question}\"\"\"\n",
    "prompt = PromptTemplate(template=template, input_variables=[\"question\"])"
   ]
  },
  {
   "cell_type": "code",
   "execution_count": 5,
   "id": "b7322d29-8bc2-4c9d-aa34-adfed0c56f1f",
   "metadata": {
    "execution": {
     "iopub.execute_input": "2024-02-11T16:36:49.277411Z",
     "iopub.status.busy": "2024-02-11T16:36:49.277073Z",
     "iopub.status.idle": "2024-02-11T16:36:49.280669Z",
     "shell.execute_reply": "2024-02-11T16:36:49.280053Z",
     "shell.execute_reply.started": "2024-02-11T16:36:49.277391Z"
    }
   },
   "outputs": [],
   "source": [
    "llm_chain = LLMChain(prompt=prompt, llm=llm)"
   ]
  },
  {
   "cell_type": "code",
   "execution_count": 6,
   "id": "700fef2d-eaa7-439e-bb3b-e3af4c2dac3b",
   "metadata": {
    "execution": {
     "iopub.execute_input": "2024-02-11T16:36:50.055809Z",
     "iopub.status.busy": "2024-02-11T16:36:50.055409Z",
     "iopub.status.idle": "2024-02-11T16:36:56.125602Z",
     "shell.execute_reply": "2024-02-11T16:36:56.125005Z",
     "shell.execute_reply.started": "2024-02-11T16:36:50.055786Z"
    }
   },
   "outputs": [
    {
     "name": "stderr",
     "output_type": "stream",
     "text": [
      "/opt/conda/envs/myenv/lib/python3.10/site-packages/langchain_core/_api/deprecation.py:189: LangChainDeprecationWarning: The function `run` was deprecated in LangChain 0.1.0 and will be removed in 0.2.0. Use invoke instead.\n",
      "  warn_deprecated(\n",
      "/opt/conda/envs/myenv/lib/python3.10/site-packages/langchain_core/_api/deprecation.py:189: LangChainDeprecationWarning: The function `__call__` was deprecated in LangChain 0.1.0 and will be removed in 0.2.0. Use invoke instead.\n",
      "  warn_deprecated(\n"
     ]
    },
    {
     "data": {
      "text/plain": [
       "'我们的衣服是通过品牌授权和直营销售两种方式进行销售。\\n\\n品牌授权是指我们与一些知名品牌合作,在这些品牌的授权下销售他们的衣服。这些品牌会给我们提供品牌形象、设计、产品质量和销售支持等资源,我们则会根据这些资源来制定自己的销售策略,进行市场推广和销售。\\n\\n直营销售是指我们自行设计和销售自己的品牌衣服。我们拥有自己的设计团队和生产线,能够提供符合市场需求的高品质衣服,并通过自建网站和在线商城等渠道直接向消费者销售。\\n\\n无论是品牌授权还是直营销售,我们都致力于为客户提供高品质、个性化和时尚的衣服,让每一位客户都能够找到适合自己的款式和尺码。'"
      ]
     },
     "execution_count": 6,
     "metadata": {},
     "output_type": "execute_result"
    }
   ],
   "source": [
    "llm_chain.run(\"你们衣服怎么卖？\")"
   ]
  },
  {
   "cell_type": "code",
   "execution_count": null,
   "id": "a0396649-c400-4972-b6f6-18e51bbd7105",
   "metadata": {},
   "outputs": [],
   "source": []
  },
  {
   "cell_type": "markdown",
   "id": "0a9070c0-14b0-416f-98d3-65eb5ab43c4e",
   "metadata": {},
   "source": [
    "## 带记忆功能的聊天对话（Conversation with Memory）"
   ]
  },
  {
   "cell_type": "code",
   "execution_count": 7,
   "id": "9ca4b002-0a05-4c3b-9aa4-94e7990072f9",
   "metadata": {
    "execution": {
     "iopub.execute_input": "2024-02-11T16:36:59.863060Z",
     "iopub.status.busy": "2024-02-11T16:36:59.862713Z",
     "iopub.status.idle": "2024-02-11T16:36:59.865801Z",
     "shell.execute_reply": "2024-02-11T16:36:59.865298Z",
     "shell.execute_reply.started": "2024-02-11T16:36:59.863038Z"
    }
   },
   "outputs": [],
   "source": [
    "from langchain.chains import ConversationChain\n",
    "from langchain.memory import ConversationBufferMemory"
   ]
  },
  {
   "cell_type": "code",
   "execution_count": 8,
   "id": "455b4814-75d3-4251-a0f1-859a9d72bc1c",
   "metadata": {
    "execution": {
     "iopub.execute_input": "2024-02-11T16:37:00.927079Z",
     "iopub.status.busy": "2024-02-11T16:37:00.926694Z",
     "iopub.status.idle": "2024-02-11T16:37:00.930107Z",
     "shell.execute_reply": "2024-02-11T16:37:00.929559Z",
     "shell.execute_reply.started": "2024-02-11T16:37:00.927058Z"
    }
   },
   "outputs": [],
   "source": [
    "conversation = ConversationChain(\n",
    "    llm=llm, \n",
    "    verbose=True, \n",
    "    memory=ConversationBufferMemory()\n",
    ")"
   ]
  },
  {
   "cell_type": "code",
   "execution_count": 9,
   "id": "11161e97-cfbb-4bbe-9839-27334c7f6eba",
   "metadata": {
    "execution": {
     "iopub.execute_input": "2024-02-11T16:37:09.689615Z",
     "iopub.status.busy": "2024-02-11T16:37:09.689182Z",
     "iopub.status.idle": "2024-02-11T16:37:11.719046Z",
     "shell.execute_reply": "2024-02-11T16:37:11.718507Z",
     "shell.execute_reply.started": "2024-02-11T16:37:09.689594Z"
    }
   },
   "outputs": [
    {
     "name": "stderr",
     "output_type": "stream",
     "text": [
      "/opt/conda/envs/myenv/lib/python3.10/site-packages/langchain_core/_api/deprecation.py:189: LangChainDeprecationWarning: The function `__call__` was deprecated in LangChain 0.1.0 and will be removed in 0.2.0. Use invoke instead.\n",
      "  warn_deprecated(\n"
     ]
    },
    {
     "name": "stdout",
     "output_type": "stream",
     "text": [
      "\n",
      "\n",
      "\u001b[1m> Entering new ConversationChain chain...\u001b[0m\n",
      "Prompt after formatting:\n",
      "\u001b[32;1m\u001b[1;3mThe following is a friendly conversation between a human and an AI. The AI is talkative and provides lots of specific details from its context. If the AI does not know the answer to a question, it truthfully says it does not know.\n",
      "\n",
      "Current conversation:\n",
      "\n",
      "Human: 你们衣服怎么卖？\n",
      "AI:\u001b[0m\n",
      "\n",
      "\u001b[1m> Finished chain.\u001b[0m\n"
     ]
    },
    {
     "data": {
      "text/plain": [
       "'我们的衣服都是自己生产的,然后拿到市场上卖。我们主要的销售渠道是线上和线下,线上通过我们的官方网站和社交媒体平台进行销售,线下则主要在商场、服装店和一些特殊的服饰品牌店进行销售。我们的衣服设计独特,质量优良,价格实惠,深受广大消费者的喜爱。'"
      ]
     },
     "execution_count": 9,
     "metadata": {},
     "output_type": "execute_result"
    }
   ],
   "source": [
    "conversation.predict(input=\"你们衣服怎么卖？\")"
   ]
  },
  {
   "cell_type": "code",
   "execution_count": 10,
   "id": "dcc8ced2-396e-47c0-8474-f8a5065ba7aa",
   "metadata": {
    "execution": {
     "iopub.execute_input": "2024-02-11T16:37:13.684057Z",
     "iopub.status.busy": "2024-02-11T16:37:13.683702Z",
     "iopub.status.idle": "2024-02-11T16:37:15.754992Z",
     "shell.execute_reply": "2024-02-11T16:37:15.754450Z",
     "shell.execute_reply.started": "2024-02-11T16:37:13.684037Z"
    }
   },
   "outputs": [
    {
     "name": "stderr",
     "output_type": "stream",
     "text": [
      "/opt/conda/envs/myenv/lib/python3.10/site-packages/langchain_core/_api/deprecation.py:189: LangChainDeprecationWarning: The function `__call__` was deprecated in LangChain 0.1.0 and will be removed in 0.2.0. Use invoke instead.\n",
      "  warn_deprecated(\n"
     ]
    },
    {
     "name": "stdout",
     "output_type": "stream",
     "text": [
      "\n",
      "\n",
      "\u001b[1m> Entering new ConversationChain chain...\u001b[0m\n",
      "Prompt after formatting:\n",
      "\u001b[32;1m\u001b[1;3mThe following is a friendly conversation between a human and an AI. The AI is talkative and provides lots of specific details from its context. If the AI does not know the answer to a question, it truthfully says it does not know.\n",
      "\n",
      "Current conversation:\n",
      "Human: 你们衣服怎么卖？\n",
      "AI: 我们的衣服都是自己生产的,然后拿到市场上卖。我们主要的销售渠道是线上和线下,线上通过我们的官方网站和社交媒体平台进行销售,线下则主要在商场、服装店和一些特殊的服饰品牌店进行销售。我们的衣服设计独特,质量优良,价格实惠,深受广大消费者的喜爱。\n",
      "Human: 有哪些款式？\n",
      "AI:\u001b[0m\n",
      "\n",
      "\u001b[1m> Finished chain.\u001b[0m\n"
     ]
    },
    {
     "data": {
      "text/plain": [
       "'我们的衣服款式很多,涵盖了不同风格和不同尺码,可以满足不同消费者的需求。我们的设计团队会根据当季流行趋势和客户的需求不断推出新的款式,保持产品的新鲜感和吸引力。我们有多种款式,包括休闲装、商务装、儿童装和家居装等。'"
      ]
     },
     "execution_count": 10,
     "metadata": {},
     "output_type": "execute_result"
    }
   ],
   "source": [
    "conversation.predict(input=\"有哪些款式？\")"
   ]
  },
  {
   "cell_type": "code",
   "execution_count": 11,
   "id": "1518523e-6ccd-461c-a1e1-331905750f3d",
   "metadata": {
    "execution": {
     "iopub.execute_input": "2024-02-11T16:37:15.756257Z",
     "iopub.status.busy": "2024-02-11T16:37:15.755955Z",
     "iopub.status.idle": "2024-02-11T16:37:18.339033Z",
     "shell.execute_reply": "2024-02-11T16:37:18.338525Z",
     "shell.execute_reply.started": "2024-02-11T16:37:15.756237Z"
    }
   },
   "outputs": [
    {
     "name": "stdout",
     "output_type": "stream",
     "text": [
      "\n",
      "\n",
      "\u001b[1m> Entering new ConversationChain chain...\u001b[0m\n",
      "Prompt after formatting:\n",
      "\u001b[32;1m\u001b[1;3mThe following is a friendly conversation between a human and an AI. The AI is talkative and provides lots of specific details from its context. If the AI does not know the answer to a question, it truthfully says it does not know.\n",
      "\n",
      "Current conversation:\n",
      "Human: 你们衣服怎么卖？\n",
      "AI: 我们的衣服都是自己生产的,然后拿到市场上卖。我们主要的销售渠道是线上和线下,线上通过我们的官方网站和社交媒体平台进行销售,线下则主要在商场、服装店和一些特殊的服饰品牌店进行销售。我们的衣服设计独特,质量优良,价格实惠,深受广大消费者的喜爱。\n",
      "Human: 有哪些款式？\n",
      "AI: 我们的衣服款式很多,涵盖了不同风格和不同尺码,可以满足不同消费者的需求。我们的设计团队会根据当季流行趋势和客户的需求不断推出新的款式,保持产品的新鲜感和吸引力。我们有多种款式,包括休闲装、商务装、儿童装和家居装等。\n",
      "Human: 休闲装男款都有啥？\n",
      "AI:\u001b[0m\n"
     ]
    },
    {
     "name": "stderr",
     "output_type": "stream",
     "text": [
      "/opt/conda/envs/myenv/lib/python3.10/site-packages/langchain_core/_api/deprecation.py:189: LangChainDeprecationWarning: The function `__call__` was deprecated in LangChain 0.1.0 and will be removed in 0.2.0. Use invoke instead.\n",
      "  warn_deprecated(\n"
     ]
    },
    {
     "name": "stdout",
     "output_type": "stream",
     "text": [
      "\n",
      "\u001b[1m> Finished chain.\u001b[0m\n"
     ]
    },
    {
     "data": {
      "text/plain": [
       "'我们的休闲装男款有多种选择,包括T恤、衬衫、夹克、外套和裤子等。我们的产品材质优质,设计独特,穿着舒适,适合各种场合。我们的休闲装款式多样,可以满足不同消费者的需求和风格。如果有任何特定的需求或款式,可以随时告诉我们,我们会尽力提供满意的产品。'"
      ]
     },
     "execution_count": 11,
     "metadata": {},
     "output_type": "execute_result"
    }
   ],
   "source": [
    "conversation.predict(input=\"休闲装男款都有啥？\")"
   ]
  },
  {
   "cell_type": "code",
   "execution_count": null,
   "id": "a987c6c6-98be-4a1b-b916-b05033d6d0a0",
   "metadata": {},
   "outputs": [],
   "source": []
  }
 ],
 "metadata": {
  "kernelspec": {
   "display_name": "Python 3 (ipykernel)",
   "language": "python",
   "name": "python3"
  },
  "language_info": {
   "codemirror_mode": {
    "name": "ipython",
    "version": 3
   },
   "file_extension": ".py",
   "mimetype": "text/x-python",
   "name": "python",
   "nbconvert_exporter": "python",
   "pygments_lexer": "ipython3",
   "version": "3.10.13"
  }
 },
 "nbformat": 4,
 "nbformat_minor": 5
}
